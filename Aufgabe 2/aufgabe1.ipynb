{
 "cells": [
  {
   "cell_type": "code",
   "execution_count": 1,
   "metadata": {
    "collapsed": false
   },
   "outputs": [],
   "source": [
    "import numpy as np\n",
    "import matplotlib.pyplot as plt"
   ]
  },
  {
   "cell_type": "code",
   "execution_count": 2,
   "metadata": {
    "collapsed": false
   },
   "outputs": [],
   "source": [
    "# A1.1 - A-Priori-Wahrscheinlichkeiten\n",
    "def P(w):\n",
    "    if (w==1):\n",
    "        P = 3/5\n",
    "    else:\n",
    "        P = 2/5\n",
    "    return P\n",
    "\n",
    "# A1.2 - Bayes-Klassifikator\n",
    "def pxw(x,w):\n",
    "    \n",
    "    if (w==1):\n",
    "        pxw = 1/6\n",
    "    else:\n",
    "        if (x==1):\n",
    "            pxw = 0\n",
    "        elif (x == 2 or x == 3 or x == 4 or x == 5):\n",
    "            pxw = 1/6\n",
    "        else:\n",
    "            pxw = 1/3\n",
    "    return pxw\n",
    "\n",
    "def p(x): \n",
    "    \n",
    "    return (P(1)*pxw(x,1)+P(2)*pxw(x,2))\n",
    "\n",
    "def Pwx(x,w):\n",
    "    \n",
    "    return (pxw(x,w)*P(w))/p(x)\n",
    "\n",
    "def map(x):\n",
    "    \n",
    "    if (Pwx(x,1) < Pwx(x,2)):\n",
    "        return 2\n",
    "    else:\n",
    "        return 1"
   ]
  },
  {
   "cell_type": "code",
   "execution_count": 7,
   "metadata": {
    "collapsed": false
   },
   "outputs": [
    {
     "data": {
      "text/plain": [
       "[1, 1, 1, 1, 1, 2]"
      ]
     },
     "execution_count": 7,
     "metadata": {},
     "output_type": "execute_result"
    }
   ],
   "source": [
    "results = [map(1),map(2),map(3),map(4),map(5),map(6)]\n",
    "results"
   ]
  },
  {
   "cell_type": "code",
   "execution_count": 4,
   "metadata": {
    "collapsed": false
   },
   "outputs": [
    {
     "data": {
      "text/plain": [
       "0.4"
      ]
     },
     "execution_count": 4,
     "metadata": {},
     "output_type": "execute_result"
    }
   ],
   "source": [
    "# A1.3\n",
    "PF_naiv = 0\n",
    "for i in range(1,7):\n",
    "    PF_naiv += Pwx(i,2)*p(i)\n",
    "\n",
    "PF_naiv"
   ]
  },
  {
   "cell_type": "code",
   "execution_count": 5,
   "metadata": {
    "collapsed": false
   },
   "outputs": [
    {
     "data": {
      "text/plain": [
       "0.36666666666666664"
      ]
     },
     "execution_count": 5,
     "metadata": {},
     "output_type": "execute_result"
    }
   ],
   "source": [
    "PF_bayes = 0\n",
    "for i in range(1,7):\n",
    "    if (map(i) == 1):\n",
    "        PF_bayes += p(i)*Pwx(i,2)\n",
    "    else:\n",
    "        PF_bayes += p(i)*Pwx(i,1)\n",
    "\n",
    "PF_bayes "
   ]
  },
  {
   "cell_type": "code",
   "execution_count": 35,
   "metadata": {
    "collapsed": false
   },
   "outputs": [
    {
     "data": {
      "image/png": "[encoded data removed]",
      "text/plain": [
       "<matplotlib.figure.Figure at 0x1eb16d24400>"
      ]
     },
     "metadata": {},
     "output_type": "display_data"
    }
   ],
   "source": [
    "# Plot\n",
    "x = [1]\n",
    "y1 = [pxw(1,1)*P(1)]\n",
    "y2 = [pxw(1,2)*P(2)]\n",
    "\n",
    "for i in range(2, 7):\n",
    "    x.append(i)\n",
    "    y1.append(pxw(i,1)*P(1))\n",
    "    y2.append(pxw(i,2)*P(2))\n",
    "    \n",
    "\n",
    "p1,=plt.plot(x,y1, label=\"P(w_1)*p(x|w_1)\")\n",
    "p2,=plt.plot(x,y2, label=\"P(w_2)*p(x|w_2)\")\n",
    "plt.xlabel('x')\n",
    "plt.ylabel('P(w_i)*p(x|w_i)')\n",
    "plt.legend([p1, p2], [\"i=1\", \"i=2\"],loc=4)\n",
    "plt.show()"
   ]
  },
  {
   "cell_type": "code",
   "execution_count": null,
   "metadata": {
    "collapsed": true
   },
   "outputs": [],
   "source": []
  }
 ],
 "metadata": {
  "anaconda-cloud": {},
  "kernelspec": {
   "display_name": "Python [default]",
   "language": "python",
   "name": "python3"
  },
  "language_info": {
   "codemirror_mode": {
    "name": "ipython",
    "version": 3
   },
   "file_extension": ".py",
   "mimetype": "text/x-python",
   "name": "python",
   "nbconvert_exporter": "python",
   "pygments_lexer": "ipython3",
   "version": "3.5.2"
  }
 },
 "nbformat": 4,
 "nbformat_minor": 1
}
