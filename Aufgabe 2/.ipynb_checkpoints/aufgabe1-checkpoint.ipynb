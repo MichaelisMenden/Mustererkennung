{
 "cells": [
  {
   "cell_type": "code",
   "execution_count": 9,
   "metadata": {
    "collapsed": false
   },
   "outputs": [],
   "source": [
    "import numpy as np"
   ]
  },
  {
   "cell_type": "code",
   "execution_count": 3,
   "metadata": {
    "collapsed": false
   },
   "outputs": [],
   "source": [
    "def pxw(x,w):\n",
    "    if (w==1):\n",
    "        pxw = 1/6\n",
    "    else:\n",
    "        if (x==1):\n",
    "            pxw = 0\n",
    "        elif (x == 2 or x == 3 or x == 4 or x == 5):\n",
    "            pxw = 1/6\n",
    "        else:\n",
    "            pxw = 1/3\n",
    "    return pxw\n",
    "\n",
    "def p(x):\n",
    "    pxwVariable = pxw(x,2)\n",
    "        \n",
    "    \n",
    "    result = 0.6*(1/6)+0.4*pxwVariable\n",
    "    return result\n",
    "\n",
    "def Pwx(x,w):\n",
    "    if (w==1):\n",
    "        P = 0.6\n",
    "    else:\n",
    "        P = 0.4\n",
    "    return (pxw(x,w)*P)/p(x)\n",
    "\n",
    "def map(x):\n",
    "    if (Pwx(x,1) < Pwx(x,2)):\n",
    "        return 2\n",
    "    else:\n",
    "        return 1"
   ]
  },
  {
   "cell_type": "code",
   "execution_count": 36,
   "metadata": {
    "collapsed": false
   },
   "outputs": [
    {
     "data": {
      "text/plain": [
       "2"
      ]
     },
     "execution_count": 36,
     "metadata": {},
     "output_type": "execute_result"
    }
   ],
   "source": [
    "p(1)\n",
    "Pwx(2,1)\n",
    "map(6)"
   ]
  },
  {
   "cell_type": "code",
   "execution_count": 39,
   "metadata": {
    "collapsed": true
   },
   "outputs": [],
   "source": [
    "def naiv(x):\n",
    "\n",
    "    return Pwx(x,2)\n",
    "    \n",
    "    "
   ]
  },
  {
   "cell_type": "code",
   "execution_count": 43,
   "metadata": {
    "collapsed": false
   },
   "outputs": [
    {
     "data": {
      "text/plain": [
       "0.5714285714285714"
      ]
     },
     "execution_count": 43,
     "metadata": {},
     "output_type": "execute_result"
    }
   ],
   "source": [
    "naiv(6)"
   ]
  },
  {
   "cell_type": "code",
   "execution_count": 7,
   "metadata": {
    "collapsed": true
   },
   "outputs": [],
   "source": [
    "def erwartungswert():\n",
    "    erwartungswert = 0\n",
    "    for x in range(1, 7):\n",
    "        erwartungswert += x*p(x)\n",
    "        \n",
    "    return erwartungswert\n",
    "\n",
    "def varianz():\n",
    "    varianz = 0\n",
    "    for x in range(1, 7):\n",
    "        varianz += (x-erwartungswert())**2 * p(x)\n",
    "    \n",
    "    return varianz\n",
    "\n"
   ]
  },
  {
   "cell_type": "code",
   "execution_count": 11,
   "metadata": {
    "collapsed": false
   },
   "outputs": [
    {
     "data": {
      "text/plain": [
       "3.6914734319532276"
      ]
     },
     "execution_count": 11,
     "metadata": {},
     "output_type": "execute_result"
    }
   ],
   "source": [
    "T = 0.5*(1- 2*varianz()**2 * np.log(0.4/0.6))\n",
    "T"
   ]
  },
  {
   "cell_type": "code",
   "execution_count": null,
   "metadata": {
    "collapsed": true
   },
   "outputs": [],
   "source": []
  }
 ],
 "metadata": {
  "anaconda-cloud": {},
  "kernelspec": {
   "display_name": "Python [default]",
   "language": "python",
   "name": "python3"
  },
  "language_info": {
   "codemirror_mode": {
    "name": "ipython",
    "version": 3
   },
   "file_extension": ".py",
   "mimetype": "text/x-python",
   "name": "python",
   "nbconvert_exporter": "python",
   "pygments_lexer": "ipython3",
   "version": "3.5.2"
  }
 },
 "nbformat": 4,
 "nbformat_minor": 1
}
